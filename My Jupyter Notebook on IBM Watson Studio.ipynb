{
 "cells": [
  {
   "cell_type": "markdown",
   "id": "c34c710a-9b0f-4785-88aa-0ef721daf91a",
   "metadata": {},
   "source": [
    "# My Jupyter Notebook on IBM Watson Studio"
   ]
  },
  {
   "cell_type": "markdown",
   "id": "e4185ab6-063a-4d1c-bbb2-8862d4e1f8dd",
   "metadata": {},
   "source": [
    "my name is __afshin mosharaf__ \n",
    "\n",
    "I am currently an architect and hoping for a career change into data science in the field of finances"
   ]
  },
  {
   "cell_type": "markdown",
   "id": "22744305-6db6-4f2f-9373-4ed4d6e97805",
   "metadata": {},
   "source": [
    "_I am interested in data science because since I got to met programing i fell in love with it and i wnat to put it in some good uses. I always also loved mathematics and statistics, thereby I choose data science_"
   ]
  },
  {
   "cell_type": "markdown",
   "id": "8d1e132a-76c4-4ab4-ac80-22c0a23b4042",
   "metadata": {},
   "source": [
    "### In the next cell there is a simple code of a function for outputing a simple adding operation on given numbers"
   ]
  },
  {
   "cell_type": "code",
   "execution_count": 3,
   "id": "a693dce1-756f-4402-a671-8d2ef5f6419e",
   "metadata": {},
   "outputs": [
    {
     "data": {
      "text/plain": [
       "9"
      ]
     },
     "execution_count": 3,
     "metadata": {},
     "output_type": "execute_result"
    }
   ],
   "source": [
    "def sum(a,b):\n",
    "    re = a + b\n",
    "    return re\n",
    "sum(4,5)"
   ]
  },
  {
   "cell_type": "markdown",
   "id": "96d77a1b-64e6-4793-b7f0-ee8ceb922212",
   "metadata": {},
   "source": [
    "***\n",
    "## Top five car companies in the world:\n",
    "\n",
    " * Volkswagen\n",
    " * Toyota\n",
    " * Stellantis\n",
    " * Mercedes Benz\n",
    " * Ford Motor\n",
    "\n",
    "***\n",
    "## Top five best selling cars in 2021\n",
    "\n",
    "| Model | No of Taransactiosn | \n",
    "| --- | --- |\n",
    "| Ford Fiesta | 94,206 |\n",
    "| Vauxhall Corsa | 73,366|\n",
    "| Ford Focus | 72,105 |\n",
    "| Volkswagen Golf | 69,582 |\n",
    "|Vauxhall Astra | 56,189 |"
   ]
  },
  {
   "cell_type": "code",
   "execution_count": null,
   "id": "8be4cb84-20e2-4bf1-b38d-30e8252df2b3",
   "metadata": {},
   "outputs": [],
   "source": []
  }
 ],
 "metadata": {
  "kernelspec": {
   "display_name": "Python 3 (ipykernel)",
   "language": "python",
   "name": "python3"
  },
  "language_info": {
   "codemirror_mode": {
    "name": "ipython",
    "version": 3
   },
   "file_extension": ".py",
   "mimetype": "text/x-python",
   "name": "python",
   "nbconvert_exporter": "python",
   "pygments_lexer": "ipython3",
   "version": "3.9.13"
  }
 },
 "nbformat": 4,
 "nbformat_minor": 5
}
